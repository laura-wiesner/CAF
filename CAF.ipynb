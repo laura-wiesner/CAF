{
  "nbformat": 4,
  "nbformat_minor": 0,
  "metadata": {
    "colab": {
      "provenance": [],
      "authorship_tag": "ABX9TyMxUzRM6a5nubKkfwkKhe+o"
    },
    "kernelspec": {
      "name": "python3",
      "display_name": "Python 3"
    },
    "language_info": {
      "name": "python"
    }
  },
  "cells": [
    {
      "cell_type": "code",
      "source": [
        "import numpy as np\n",
        "import matplotlib.pyplot as plt\n",
        "\n",
        "\n",
        "f = np.random.randn(100)\n",
        "g = np.roll(f, shift=4) # time shift\n",
        "G = np.roll(np.fft.fft(g), shift = 3) # frequency shift in Fourier space\n",
        "g = np.fft.ifft(G) # frequency and time shifted\n",
        "\n",
        "len_f = len(f)\n",
        "len_g = len(g)\n",
        "\n",
        "# this is the largest delay we can have\n",
        "max_freq= len_f\n",
        "\n",
        "caf = []\n",
        "freq_range = np.arange(-10, 10)\n",
        "\n",
        "F = np.fft.fft(f)\n",
        "G = np.fft.fft(g)\n",
        "\n",
        "for freq in freq_range:\n",
        "  # calculate the frequency shift\n",
        "  shifted_signal2 = np.roll(G, -freq)\n",
        "  caf.append(np.fft.ifft(np.conjugate(F) * shifted_signal2))\n",
        "\n",
        "\n",
        "plt.imshow(abs(np.array((caf))), cmap='hot', interpolation='none', extent =[0, len(f), freq_range.max(), freq_range.min()])\n",
        "plt.show()\n",
        "\n",
        "caf = np.array(caf)\n",
        "index = np.unravel_index(caf.argmax(), caf.shape)\n",
        "print(\"FDOA and TDOA (in samples)  = \", \"(\", freq_range[index[0]], \", \", index[1], \")\")\n",
        "print(\"max_index = \", index)"
      ],
      "metadata": {
        "colab": {
          "base_uri": "https://localhost:8080/",
          "height": 195
        },
        "id": "Fq-MszDv_-eo",
        "outputId": "cd832483-ff33-4f47-d1b2-e00a33127fa2"
      },
      "execution_count": null,
      "outputs": [
        {
          "output_type": "display_data",
          "data": {
            "text/plain": [
              "<Figure size 640x480 with 1 Axes>"
            ],
            "image/png": "[encoded data removed]"
          },
          "metadata": {}
        },
        {
          "output_type": "stream",
          "name": "stdout",
          "text": [
            "TDOA and FDOA (in samples)  =  ( 3 ,  4 )\n",
            "max_index =  (13, 4)\n"
          ]
        }
      ]
    }
  ]
}